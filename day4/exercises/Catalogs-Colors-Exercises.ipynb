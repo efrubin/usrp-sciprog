{
 "cells": [
  {
   "cell_type": "code",
   "execution_count": 28,
   "metadata": {
    "collapsed": false
   },
   "outputs": [],
   "source": [
    "import FITS_analyze as f\n",
    "import astropy\n",
    "import numpy as np\n",
    "import pylab as plt\n",
    "%matplotlib inline\n",
    "fits = astropy.io.fits.open('../../data/HSC_grizy_example.fits')"
   ]
  },
  {
   "cell_type": "code",
   "execution_count": 29,
   "metadata": {
    "collapsed": false
   },
   "outputs": [],
   "source": [
    "table = fits[1].data\n",
    "d = {'r': \"R_FLUX_KRON\", 'i': \"I_FLUX_KRON\", 'g': 'G_FLUX_KRON', 'z': 'Z_FLUX_KRON'}"
   ]
  },
  {
   "cell_type": "code",
   "execution_count": 31,
   "metadata": {
    "collapsed": false
   },
   "outputs": [],
   "source": [
    "magtable = f.getMagnitudes(table, 27.0 , d )"
   ]
  },
  {
   "cell_type": "code",
   "execution_count": 32,
   "metadata": {
    "collapsed": false
   },
   "outputs": [
    {
     "data": {
      "text/plain": [
       "{'g': array([ 20.67108906,  25.04928715,  22.04543521, ...,  24.53542782,\n",
       "         23.67660283,  22.66474873]),\n",
       " 'i': array([ 19.86689796,  24.67302612,  21.05677823, ...,  24.44613837,\n",
       "         22.61157888,  21.97389154]),\n",
       " 'r': array([ 19.6425155 ,  24.357349  ,  20.76137471, ...,  24.62702914,\n",
       "         22.13808826,  21.10179991]),\n",
       " 'z': array([ 19.3663229 ,  23.86156355,  20.46218023, ...,  25.7760975 ,\n",
       "         21.74308637,  20.70798525])}"
      ]
     },
     "execution_count": 32,
     "metadata": {},
     "output_type": "execute_result"
    }
   ],
   "source": [
    "magtable"
   ]
  },
  {
   "cell_type": "markdown",
   "metadata": {},
   "source": [
    "We want g-r and i-z"
   ]
  },
  {
   "cell_type": "code",
   "execution_count": 33,
   "metadata": {
    "collapsed": false
   },
   "outputs": [
    {
     "data": {
      "image/png": "[encoded data removed]",
      "text/plain": [
       "<matplotlib.figure.Figure at 0x1090f7750>"
      ]
     },
     "metadata": {},
     "output_type": "display_data"
    }
   ],
   "source": [
    "gminusr = magtable['g'] - magtable['r']\n",
    "iminusz = magtable['i'] - magtable['z']\n",
    "\n",
    "plt.figure()\n",
    "plt.plot(gminusr, iminusz, 'o')\n",
    "plt.show()"
   ]
  },
  {
   "cell_type": "code",
   "execution_count": null,
   "metadata": {
    "collapsed": false
   },
   "outputs": [],
   "source": []
  },
  {
   "cell_type": "code",
   "execution_count": 7,
   "metadata": {
    "collapsed": false
   },
   "outputs": [
    {
     "data": {
      "text/plain": [
       "numpy.ndarray"
      ]
     },
     "execution_count": 7,
     "metadata": {},
     "output_type": "execute_result"
    }
   ],
   "source": [
    "type(test_magtable['i'])"
   ]
  },
  {
   "cell_type": "code",
   "execution_count": null,
   "metadata": {
    "collapsed": true
   },
   "outputs": [],
   "source": []
  },
  {
   "cell_type": "code",
   "execution_count": null,
   "metadata": {
    "collapsed": true
   },
   "outputs": [],
   "source": []
  }
 ],
 "metadata": {
  "kernelspec": {
   "display_name": "Python 2",
   "language": "python",
   "name": "python2"
  },
  "language_info": {
   "codemirror_mode": {
    "name": "ipython",
    "version": 2
   },
   "file_extension": ".py",
   "mimetype": "text/x-python",
   "name": "python",
   "nbconvert_exporter": "python",
   "pygments_lexer": "ipython2",
   "version": "2.7.9"
  }
 },
 "nbformat": 4,
 "nbformat_minor": 0
}
